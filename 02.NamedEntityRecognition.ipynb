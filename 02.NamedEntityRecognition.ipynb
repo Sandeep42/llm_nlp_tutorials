{
 "cells": [
  {
   "cell_type": "markdown",
   "id": "597c30f1-fffe-4353-a563-a590d692d605",
   "metadata": {},
   "source": [
    "#### Imports"
   ]
  },
  {
   "cell_type": "code",
   "execution_count": 184,
   "id": "7b9f23ff-3da4-45ed-baf9-ce687bafedb8",
   "metadata": {},
   "outputs": [],
   "source": [
    "from langchain_core.prompts import ChatPromptTemplate\n",
    "from langchain_groq import ChatGroq\n",
    "from typing import List, Literal, Annotated\n",
    "from langchain_core.pydantic_v1 import BaseModel, Field\n",
    "from langchain_core.tools import tool\n",
    "import getpass\n",
    "import numpy as np\n",
    "from datasets import load_dataset\n",
    "from prompt_poet import Prompt\n",
    "from tqdm import tqdm\n",
    "import pandas as pd\n",
    "from devtools import pprint\n",
    "from typing import List, Optional"
   ]
  },
  {
   "cell_type": "markdown",
   "id": "f0459f06-49e3-4e1e-aa66-8a206b53b0af",
   "metadata": {},
   "source": [
    "#### Prompt"
   ]
  },
  {
   "cell_type": "code",
   "execution_count": 5,
   "id": "4f07f3eb-4e3f-4e5a-8e75-824244151127",
   "metadata": {},
   "outputs": [
    {
     "name": "stdin",
     "output_type": "stream",
     "text": [
      " ········\n"
     ]
    }
   ],
   "source": [
    "groq_api_key = getpass.getpass()"
   ]
  },
  {
   "cell_type": "code",
   "execution_count": 112,
   "id": "e94bbd09-bc3d-4692-9a47-a4e2d3836eb9",
   "metadata": {},
   "outputs": [],
   "source": [
    "MaxLengthStr = Annotated[str, Field(max_length=20)]\n",
    "\n",
    "class JobDescriptionExtraction(BaseModel):\n",
    "    job_title: str = Field(description=\"The Job title of the text, keep the title short, do not include any locations or other details apart from title\")\n",
    "    tech_skills: List[MaxLengthStr] = Field(description=\"Technical Skills mentioned in the text\")\n",
    "    soft_skills: List[MaxLengthStr] = Field(description=\"Soft Skills mentioned in the text\")\n",
    "    certifications: List[MaxLengthStr] = Field(description=\"Certifications mentioned in the text\")\n",
    "    locations: List[str] = Field(description=\"Geographical Locations mentioned in Job Description if any. Otherwise return an empty list\")"
   ]
  },
  {
   "cell_type": "markdown",
   "id": "3e51fb65-e003-462d-bc46-01e80d524b6e",
   "metadata": {},
   "source": [
    "Let's say we want to extract certain entities from raw text. The generic task of such type could be formulated as as token classification problem.\n",
    "\n",
    "Eg: POS tagging, Named entity recognition etc.\n",
    "\n",
    "#### Traditional Methods\n",
    "\n",
    "- Creation of data labels at a token or word level\n",
    "- For multiword phrases, creating Begin-Inside-End tokens\n",
    "- Training sequential models HMM, LSTM etc.\n",
    "- Labelling is an exhaustive effort.\n",
    "- Feature engineering is necessary.\n",
    "- Generalization beyond the domain in which model is trained for is not possible.\n",
    "- Distributional learning methods like Word2vec help but not by a lot\n",
    "- Lot of applications in the industry:\n",
    "- Aspect level sentiment analysis: Product - Feature - Sentiment\n",
    "- Getting structured data from unstructured text"
   ]
  },
  {
   "cell_type": "markdown",
   "id": "8e228b1b-8f52-4120-858a-e41ab4950d77",
   "metadata": {},
   "source": [
    "As an example, let's see if we can use a pretrained LLM to directly extract entities from a Job description using Zero-shot approach."
   ]
  },
  {
   "cell_type": "markdown",
   "id": "1c3bc1c0-80c6-4da9-98a7-3cd5affa5a8f",
   "metadata": {},
   "source": [
    "#### Entity Extraction"
   ]
  },
  {
   "cell_type": "code",
   "execution_count": 113,
   "id": "f1cb9670-9e1d-48eb-a63d-c36830c66a6c",
   "metadata": {},
   "outputs": [],
   "source": [
    "raw_template = \"\"\"\n",
    "- name: system instructions\n",
    "  role: system\n",
    "  content: |\n",
    "    You are an expert in classifying a given text into a job title and extracting properties defined in the JobDescriptionExtraction function. \n",
    "    Do not respond with anything other than the text mentioned in the text.\n",
    "\n",
    "- name: user query\n",
    "  role: user\n",
    "  content: |\n",
    "    Please extract properties defined in the JobDescriptionExtraction function: \n",
    "    {{ escape_special_characters(text) }}\n",
    "\"\"\""
   ]
  },
  {
   "cell_type": "code",
   "execution_count": 114,
   "id": "d4119ee4-0fdb-4059-8c74-4ee812d87760",
   "metadata": {},
   "outputs": [],
   "source": [
    "template_data = {\"text\" : '''\n",
    "Data Scientist VP - Chief Data Office India, Bengaluruor Mumbai\n",
    "\n",
    "Description\n",
    "\n",
    "As a Data Scientist with the Chief Data Office, you will shape the future of the Chief Administrative Office and its businesses by applying world-class machine learning expertise. You will collaborate on a wide array of product and business problems with a diverse set of cross-functional partners across Finance, Supplier Services, Data Security intelligence program, Global Real Estate and Customer Experience. You will use data and analysis to identify and solve our divisions biggest challenges and develop state-of-the art machine learning models to solve real-world problems. We have evolved from our ‘startup’ roots to become a credible strategic partner trusted by division wide leadership and are expanding now. By joining JP Morgan Chief Data Office (CAO), you will become part of a world-class Data science community dedicated to problem solving and career growth in ML/AI discipline and beyond.\n",
    "\n",
    "Product Owner: Develop and own ML products to drive business outcomes and influence your strategic partners, in a highly collaborative environment\n",
    "Research & Learning: The candidate must also have a strong passion for machine learning and invest independent time towards learning, researching, and experimenting with new innovations in the field.\n",
    "Problem-Solving: We want a strategic thinker with demonstrated problem-solving skills using Machine Learning Skills.\n",
    "\n",
    "Technical Skills\n",
    "\n",
    "Master’s in quantitative field (Computer Science, Mathematics, Statistics, or ML)\n",
    "6-8 years industry experience in data science / applied ML model development (must have)\n",
    "Strong knowledge and experience with Traditional ML, Deep Learning,LLM, NLP, time-series predictions, or recommendation systems (must have)\n",
    "Excellent python coding and algorithm skills (must have)\n",
    "Experience with data visualization techniques and software\n",
    "Foundational Statistics knowledge\n",
    "\n",
    "Additional Skills\n",
    "\n",
    "Experience driving AI adoption\n",
    "Experience with Data Querying (e.g., SQL, big data), A/B Testing\n",
    "Experience with Cloud based deployment (e.g., aws, azure), Engineering background\n",
    "Experience with python frameworks (e.g., pyspark, django, Flask, Bottle)\n",
    "Experience in financial markets or services firm\n",
    "\n",
    "ABOUT US\n",
    "\n",
    "JPMorgan Chase & Co., one of the oldest financial institutions, offers innovative financial solutions to millions of consumers, small businesses and many of the world’s most prominent corporate, institutional and government clients under the J.P. Morgan and Chase brands. Our history spans over 200 years and today we are a leader in investment banking, consumer and small business banking, commercial banking, financial transaction processing and asset management.\n",
    "\n",
    "We recognize that our people are our strength and the diverse talents they bring to our global workforce are directly linked to our success. We are an equal opportunity employer and place a high value on diversity and inclusion at our company. We do not discriminate on the basis of any protected attribute, including race, religion, color, national origin, gender, sexual orientation, gender identity, gender expression, age, marital or veteran status, pregnancy or disability, or any other basis protected under applicable law. We also make reasonable accommodations for applicants’ and employees’ religious practices and beliefs, as well as mental health or physical disability needs. Visit our FAQs for more information about requesting an accommodation.\n",
    "\n",
    "About The Team\n",
    "\n",
    "Our professionals in our Corporate Functions cover a diverse range of areas from finance and risk to human resources and marketing. Our corporate teams are an essential part of our company, ensuring that we’re setting our businesses, clients, customers and employees up for success.\n",
    "\n",
    "'''}"
   ]
  },
  {
   "cell_type": "code",
   "execution_count": 115,
   "id": "cdbf9c6a-9ee0-4cf2-b39a-420a0d003176",
   "metadata": {},
   "outputs": [],
   "source": [
    "llm_job_extraction = ChatGroq(temperature=0, model_name=\"llama3-groq-70b-8192-tool-use-preview\",api_key=groq_api_key).with_structured_output(JobDescriptionExtraction)"
   ]
  },
  {
   "cell_type": "code",
   "execution_count": 116,
   "id": "a2fc7e17-3537-431f-92fd-e4063a2d7d13",
   "metadata": {},
   "outputs": [],
   "source": [
    "prompt = Prompt(\n",
    "    raw_template=raw_template,\n",
    "    template_data=template_data\n",
    ")"
   ]
  },
  {
   "cell_type": "code",
   "execution_count": 117,
   "id": "a045cbc2-02d6-44f9-a8ab-d1765966e96f",
   "metadata": {},
   "outputs": [
    {
     "data": {
      "text/plain": [
       "[{'role': 'system', 'content': 'You are an expert in classifying a given text into a job title and extracting properties defined in the JobDescriptionExtraction function. \\nDo not respond with anything other than the text mentioned in the text.'}, {'role': 'user', 'content': 'Please extract properties defined in the JobDescriptionExtraction function: \\n\\nData Scientist VP - Chief Data Office India, Bengaluruor Mumbai\\n\\nDescription\\n\\nAs a Data Scientist with the Chief Data Office, you will shape the future of the Chief Administrative Office and its businesses by applying world-class machine learning expertise. You will collaborate on a wide array of product and business problems with a diverse set of cross-functional partners across Finance, Supplier Services, Data Security intelligence program, Global Real Estate and Customer Experience. You will use data and analysis to identify and solve our divisions biggest challenges and develop state-of-the art machine learning models to solve real-world problems. We have evolved from our ‘startup’ roots to become a credible strategic partner trusted by division wide leadership and are expanding now. By joining JP Morgan Chief Data Office (CAO), you will become part of a world-class Data science community dedicated to problem solving and career growth in ML/AI discipline and beyond.\\n\\nProduct Owner: Develop and own ML products to drive business outcomes and influence your strategic partners, in a highly collaborative environment\\nResearch & Learning: The candidate must also have a strong passion for machine learning and invest independent time towards learning, researching, and experimenting with new innovations in the field.\\nProblem-Solving: We want a strategic thinker with demonstrated problem-solving skills using Machine Learning Skills.\\n\\nTechnical Skills\\n\\nMaster’s in quantitative field (Computer Science, Mathematics, Statistics, or ML)\\n6-8 years industry experience in data science / applied ML model development (must have)\\nStrong knowledge and experience with Traditional ML, Deep Learning,LLM, NLP, time-series predictions, or recommendation systems (must have)\\nExcellent python coding and algorithm skills (must have)\\nExperience with data visualization techniques and software\\nFoundational Statistics knowledge\\n\\nAdditional Skills\\n\\nExperience driving AI adoption\\nExperience with Data Querying (e.g., SQL, big data), A/B Testing\\nExperience with Cloud based deployment (e.g., aws, azure), Engineering background\\nExperience with python frameworks (e.g., pyspark, django, Flask, Bottle)\\nExperience in financial markets or services firm\\n\\nABOUT US\\n\\nJPMorgan Chase & Co., one of the oldest financial institutions, offers innovative financial solutions to millions of consumers, small businesses and many of the world’s most prominent corporate, institutional and government clients under the J.P. Morgan and Chase brands. Our history spans over 200 years and today we are a leader in investment banking, consumer and small business banking, commercial banking, financial transaction processing and asset management.\\n\\nWe recognize that our people are our strength and the diverse talents they bring to our global workforce are directly linked to our success. We are an equal opportunity employer and place a high value on diversity and inclusion at our company. We do not discriminate on the basis of any protected attribute, including race, religion, color, national origin, gender, sexual orientation, gender identity, gender expression, age, marital or veteran status, pregnancy or disability, or any other basis protected under applicable law. We also make reasonable accommodations for applicants’ and employees’ religious practices and beliefs, as well as mental health or physical disability needs. Visit our FAQs for more information about requesting an accommodation.\\n\\nAbout The Team\\n\\nOur professionals in our Corporate Functions cover a diverse range of areas from finance and risk to human resources and marketing. Our corporate teams are an essential part of our company, ensuring that we’re setting our businesses, clients, customers and employees up for success.\\n\\n'}]"
      ]
     },
     "execution_count": 117,
     "metadata": {},
     "output_type": "execute_result"
    }
   ],
   "source": [
    "prompt.messages"
   ]
  },
  {
   "cell_type": "code",
   "execution_count": 118,
   "id": "fa550005-9438-4566-b623-a6d42e54515c",
   "metadata": {},
   "outputs": [],
   "source": [
    "result = llm_job_extraction.invoke(prompt.messages)"
   ]
  },
  {
   "cell_type": "code",
   "execution_count": 119,
   "id": "024ae640-6190-47ab-b46a-b7bd5b03465a",
   "metadata": {},
   "outputs": [
    {
     "name": "stdout",
     "output_type": "stream",
     "text": [
      "JobDescriptionExtraction(\n",
      "    job_title='Data Scientist VP - Chief Data Office',\n",
      "    tech_skills=[\n",
      "        'Machine Learning',\n",
      "        'Deep Learning',\n",
      "        'LLM',\n",
      "        'NLP',\n",
      "        'time-series predictions',\n",
      "        'recommendation systems',\n",
      "        'Python',\n",
      "        'SQL',\n",
      "        'Big Data',\n",
      "        'AWS',\n",
      "        'Azure',\n",
      "        'Pyspark',\n",
      "        'Django',\n",
      "        'Flask',\n",
      "        'Bottle',\n",
      "    ],\n",
      "    soft_skills=[\n",
      "        'Strategic thinking',\n",
      "        'Problem-solving',\n",
      "        'Collaboration',\n",
      "        'Communication',\n",
      "        'Adaptability',\n",
      "        'Innovation',\n",
      "    ],\n",
      "    certifications=[],\n",
      "    locations=[\n",
      "        'India',\n",
      "        'Bengaluru',\n",
      "        'Mumbai',\n",
      "    ],\n",
      ")\n"
     ]
    }
   ],
   "source": [
    "pprint(result)"
   ]
  },
  {
   "cell_type": "markdown",
   "id": "6927a0a2-6bee-4c76-bb58-4f01d3454696",
   "metadata": {},
   "source": [
    "#### Aspect level Sentiment "
   ]
  },
  {
   "cell_type": "code",
   "execution_count": 281,
   "id": "d5a214a8-d811-4381-bf27-fea0b041d838",
   "metadata": {},
   "outputs": [],
   "source": [
    "raw_template = \"\"\"\n",
    "- name: system instructions\n",
    "  role: system\n",
    "  content: |\n",
    "    You are an expert in identifying the sentiment of the review of a product into a positive, negative or neutral and extracting properties defined in the AspectLevelSentiments function. \n",
    "    Do not respond with anything other than the text mentioned in the text.\n",
    "\n",
    "- name: user query\n",
    "  role: user\n",
    "  content: |\n",
    "    Please extract properties defined in the AspectLevelSentiments function: \n",
    "    {{ escape_special_characters(text) }}\n",
    "\"\"\""
   ]
  },
  {
   "cell_type": "code",
   "execution_count": 282,
   "id": "4ce3d8b3-676d-4969-949e-2accd6183635",
   "metadata": {},
   "outputs": [],
   "source": [
    "template_data = {\"text\": '''\n",
    "Pros\n",
    "1. Very good looking, especially the Oasis green variant.\n",
    "2. Very smooth without any stutters\n",
    "3. No heating in normal use and I am not a gamer.\n",
    "4. Longer software updates\n",
    "5. Good display and charges on 32 mins.\n",
    "Cons\n",
    "1. Average cameras\n",
    "2. Display should have been better in outdoor brightness.\n",
    "3. Battery drains faster even in power saver mode. Lasts only a day with average normal usage.\n",
    "4. Software experience in oxygen OS has been degraded and with some bugs.\n",
    "\n",
    "Overall an above average experience with the Nord 4.\n",
    "'''}"
   ]
  },
  {
   "cell_type": "code",
   "execution_count": 289,
   "id": "3bdaa701-342f-492a-9c4f-07421cba5a8a",
   "metadata": {},
   "outputs": [],
   "source": [
    "class AspectLevelSentiment(BaseModel):\n",
    "    product_aspect: Optional[str] = Field(description=\"What aspect of the product is the user talking about\")\n",
    "    sentiment: Optional[str]= Field(enum=[\"positive\",\"negative\",\"neutral\"])\n",
    "    sentiment_term: Optional[str]= Field(description=\"term used to describe the sentiment on the aspect\")\n",
    "\n",
    "class AspectLevelSentiments(AspectLevelSentiment):\n",
    "    Sentiments: List[AspectLevelSentiment]"
   ]
  },
  {
   "cell_type": "code",
   "execution_count": 290,
   "id": "cf268eab-f2ef-46a0-8309-bba535f27b20",
   "metadata": {},
   "outputs": [],
   "source": [
    "prompt = Prompt(\n",
    "    raw_template=raw_template,\n",
    "    template_data=template_data\n",
    ")"
   ]
  },
  {
   "cell_type": "code",
   "execution_count": 291,
   "id": "009e6bb5-2d7d-4051-a388-9b9499341ab1",
   "metadata": {},
   "outputs": [
    {
     "data": {
      "text/plain": [
       "[{'role': 'system', 'content': 'You are an expert in identifying the sentiment of the review of a product into a positive, negative or neutral and extracting properties defined in the AspectLevelSentiments function. \\nDo not respond with anything other than the text mentioned in the text.'}, {'role': 'user', 'content': 'Please extract properties defined in the AspectLevelSentiments function: \\n\\nPros\\n1. Very good looking, especially the Oasis green variant.\\n2. Very smooth without any stutters\\n3. No heating in normal use and I am not a gamer.\\n4. Longer software updates\\n5. Good display and charges on 32 mins.\\nCons\\n1. Average cameras\\n2. Display should have been better in outdoor brightness.\\n3. Battery drains faster even in power saver mode. Lasts only a day with average normal usage.\\n4. Software experience in oxygen OS has been degraded and with some bugs.\\n\\nOverall an above average experience with the Nord 4.\\n'}]"
      ]
     },
     "execution_count": 291,
     "metadata": {},
     "output_type": "execute_result"
    }
   ],
   "source": [
    "prompt.messages"
   ]
  },
  {
   "cell_type": "code",
   "execution_count": 292,
   "id": "b28bea82-fecc-4653-9a7a-b0fd9dcce7e3",
   "metadata": {},
   "outputs": [],
   "source": [
    "llm_aspect_sentiment = ChatGroq(temperature=0, model_name=\"llama3-groq-70b-8192-tool-use-preview\",api_key=groq_api_key).with_structured_output(AspectLevelSentiments)"
   ]
  },
  {
   "cell_type": "code",
   "execution_count": 293,
   "id": "7db6ba8e-4a3f-426d-9625-ef78f8a669a4",
   "metadata": {},
   "outputs": [],
   "source": [
    "result = llm_aspect_sentiment.invoke(prompt.messages)"
   ]
  },
  {
   "cell_type": "code",
   "execution_count": 294,
   "id": "72d82aa4-839e-4d4b-8ae1-a190637086c9",
   "metadata": {},
   "outputs": [
    {
     "name": "stdout",
     "output_type": "stream",
     "text": [
      "AspectLevelSentiments(\n",
      "    product_aspect=None,\n",
      "    sentiment=None,\n",
      "    sentiment_term=None,\n",
      "    Sentiments=[\n",
      "        AspectLevelSentiment(\n",
      "            product_aspect='appearance',\n",
      "            sentiment='positive',\n",
      "            sentiment_term='good looking',\n",
      "        ),\n",
      "        AspectLevelSentiment(\n",
      "            product_aspect='performance',\n",
      "            sentiment='positive',\n",
      "            sentiment_term='smooth',\n",
      "        ),\n",
      "        AspectLevelSentiment(\n",
      "            product_aspect='battery life',\n",
      "            sentiment='positive',\n",
      "            sentiment_term='no heating',\n",
      "        ),\n",
      "        AspectLevelSentiment(\n",
      "            product_aspect='software updates',\n",
      "            sentiment='positive',\n",
      "            sentiment_term='longer',\n",
      "        ),\n",
      "        AspectLevelSentiment(\n",
      "            product_aspect='display',\n",
      "            sentiment='positive',\n",
      "            sentiment_term='good',\n",
      "        ),\n",
      "        AspectLevelSentiment(\n",
      "            product_aspect='battery life',\n",
      "            sentiment='negative',\n",
      "            sentiment_term='drains faster',\n",
      "        ),\n",
      "        AspectLevelSentiment(\n",
      "            product_aspect='battery life',\n",
      "            sentiment='negative',\n",
      "            sentiment_term='lasts only a day',\n",
      "        ),\n",
      "        AspectLevelSentiment(\n",
      "            product_aspect='software experience',\n",
      "            sentiment='negative',\n",
      "            sentiment_term='degraded',\n",
      "        ),\n",
      "        AspectLevelSentiment(\n",
      "            product_aspect='software experience',\n",
      "            sentiment='negative',\n",
      "            sentiment_term='bugs',\n",
      "        ),\n",
      "        AspectLevelSentiment(\n",
      "            product_aspect='cameras',\n",
      "            sentiment='negative',\n",
      "            sentiment_term='average',\n",
      "        ),\n",
      "        AspectLevelSentiment(\n",
      "            product_aspect='display',\n",
      "            sentiment='negative',\n",
      "            sentiment_term='should have been better in outdoor brightness',\n",
      "        ),\n",
      "    ],\n",
      ")\n"
     ]
    }
   ],
   "source": [
    "pprint(result)"
   ]
  },
  {
   "cell_type": "code",
   "execution_count": 295,
   "id": "7f6af4b1-ff05-43cc-8b41-7a9e34396052",
   "metadata": {},
   "outputs": [],
   "source": [
    "template_data = {\"text\": '''\n",
    "Realme Buds T300 are a great choice for this price range! Here's what I observed with the unit of product I received:\n",
    "\n",
    "Charging : They support Fast Charging. The most interesting and important part about this is that realme claims that 10 minutes of charge can provide around 7 hours of playback which I found to be true.\n",
    "\n",
    "Mic Quality : I tested the mic quality and it seemed interesting. It apparently depends on which mode you're using these buds which heavily affects the mic quality. For example, when I call with this without Noise Cancellation on, it actually cancels the noise from my audio. But when I don't use Noise Cancellation, it doesn't suppresses the background noise. And there's this issue I'm having with the device that my phone or my PC doesn't seems to be able to use the mic of this device while I'm not in a call. Mic quality is fine.\n",
    "\n",
    "Volume Control & Sound Quality : Here comes the best part. The Bass on this thing is extremely good. You can actually make it even better by using the realme link app to change the modes on this device. All in all, it's great for music listeners. This product is recommended if you're looking for a good music listening experience at the this price range.\n",
    "\n",
    "Appearance : There is no doubt that this thing looks absolutely professional. It has a really sleek design and it feels very smooth when you hold it.\n",
    "\n",
    "Build Quality : I don't know if it's just me but I feel like the build quality of this thing isn't that good. Especially the lid of the case. When I open the case, I have a feeling that the lid might break if I push it a bit too hard. Of course, that wouldn't happen and I tried it. The lid of the case, overall feels a bit loose. I don't know if that's a defect in the unit I got or is it the standard. Either way, I'm not really satisfied with this defect.\n",
    "\n",
    "Button Control : There is a button to control media on this device. There are three possible combinations that one can use on both the sides of the earbuds. It comes with defaults but you can configure the buttons in the realme link app. I personally found the usage of buttons quite limited. But it's good for simplicity of controls.\n",
    "\n",
    "Noise Cancellation : BY FAR, THE BEST PART. Personally, I'm someone who comes from a community that uses headphones a lot. I have one wired headphones with me which used to be my main before I got this. I have ALWAYS wanted Noise Cancellation and since I used headphones that didn't support it. It was a big thing for me. This was the best part in my opinion of these earbuds. They support upto -30db of Noise Cancellation and it actually works damn well. To get Ambient Noise Cancellation in this budget is quite crazy.\n",
    "\n",
    "Bluetooth 5.3 : It has Bluetooth 5.3 and Wake & Pair and in my opinion, it works pretty well.\n",
    "\n",
    "IP55 Rating : It has a rating of IP55 so it's resistant from water splashes/sweat and light amount of dust. Of course, I had to test it and it seems that it really is resistant to water splashes and dust. I tested it in such environments and it still works great. No problemo.\n",
    "\n",
    "Dolby Atmos : It also has Dolby Atmos which, personally, I didn't notice that much but when I was testing this feature, I shifted my focus to the 360° audio and it surely seemed like it works and pretty well at that. It could be my imagination though so don't take my word for it here.\n",
    "\n",
    "App : You can use realme link app to further configure the settings of this device and it's pretty decent. You get options to change audio modes, button functionality, etc. So it's pretty decent.\n",
    "\n",
    "In conclusion, I think that these earbuds are extremely good for their price range and you should definitely go for it if you're a music lover or you just need earbuds for day-to-day tasks.\n",
    "\n",
    "I hope my review was helpful to the readers. Thank you for your quality time!\n",
    "\n",
    "'''}"
   ]
  },
  {
   "cell_type": "code",
   "execution_count": 296,
   "id": "4a4c397c-c6d6-4b13-bf18-dcbdbf038434",
   "metadata": {},
   "outputs": [],
   "source": [
    "prompt = Prompt(\n",
    "    raw_template=raw_template,\n",
    "    template_data=template_data\n",
    ")"
   ]
  },
  {
   "cell_type": "code",
   "execution_count": 297,
   "id": "a8da42ac-fc86-4aa4-a2d0-8bc1f6c77aea",
   "metadata": {},
   "outputs": [
    {
     "data": {
      "text/plain": [
       "[{'role': 'system', 'content': 'You are an expert in identifying the sentiment of the review of a product into a positive, negative or neutral and extracting properties defined in the AspectLevelSentiments function. \\nDo not respond with anything other than the text mentioned in the text.'}, {'role': 'user', 'content': \"Please extract properties defined in the AspectLevelSentiments function: \\n\\nRealme Buds T300 are a great choice for this price range! Here's what I observed with the unit of product I received:\\n\\nCharging : They support Fast Charging. The most interesting and important part about this is that realme claims that 10 minutes of charge can provide around 7 hours of playback which I found to be true.\\n\\nMic Quality : I tested the mic quality and it seemed interesting. It apparently depends on which mode you're using these buds which heavily affects the mic quality. For example, when I call with this without Noise Cancellation on, it actually cancels the noise from my audio. But when I don't use Noise Cancellation, it doesn't suppresses the background noise. And there's this issue I'm having with the device that my phone or my PC doesn't seems to be able to use the mic of this device while I'm not in a call. Mic quality is fine.\\n\\nVolume Control & Sound Quality : Here comes the best part. The Bass on this thing is extremely good. You can actually make it even better by using the realme link app to change the modes on this device. All in all, it's great for music listeners. This product is recommended if you're looking for a good music listening experience at the this price range.\\n\\nAppearance : There is no doubt that this thing looks absolutely professional. It has a really sleek design and it feels very smooth when you hold it.\\n\\nBuild Quality : I don't know if it's just me but I feel like the build quality of this thing isn't that good. Especially the lid of the case. When I open the case, I have a feeling that the lid might break if I push it a bit too hard. Of course, that wouldn't happen and I tried it. The lid of the case, overall feels a bit loose. I don't know if that's a defect in the unit I got or is it the standard. Either way, I'm not really satisfied with this defect.\\n\\nButton Control : There is a button to control media on this device. There are three possible combinations that one can use on both the sides of the earbuds. It comes with defaults but you can configure the buttons in the realme link app. I personally found the usage of buttons quite limited. But it's good for simplicity of controls.\\n\\nNoise Cancellation : BY FAR, THE BEST PART. Personally, I'm someone who comes from a community that uses headphones a lot. I have one wired headphones with me which used to be my main before I got this. I have ALWAYS wanted Noise Cancellation and since I used headphones that didn't support it. It was a big thing for me. This was the best part in my opinion of these earbuds. They support upto -30db of Noise Cancellation and it actually works damn well. To get Ambient Noise Cancellation in this budget is quite crazy.\\n\\nBluetooth 5.3 : It has Bluetooth 5.3 and Wake & Pair and in my opinion, it works pretty well.\\n\\nIP55 Rating : It has a rating of IP55 so it's resistant from water splashes/sweat and light amount of dust. Of course, I had to test it and it seems that it really is resistant to water splashes and dust. I tested it in such environments and it still works great. No problemo.\\n\\nDolby Atmos : It also has Dolby Atmos which, personally, I didn't notice that much but when I was testing this feature, I shifted my focus to the 360° audio and it surely seemed like it works and pretty well at that. It could be my imagination though so don't take my word for it here.\\n\\nApp : You can use realme link app to further configure the settings of this device and it's pretty decent. You get options to change audio modes, button functionality, etc. So it's pretty decent.\\n\\nIn conclusion, I think that these earbuds are extremely good for their price range and you should definitely go for it if you're a music lover or you just need earbuds for day-to-day tasks.\\n\\nI hope my review was helpful to the readers. Thank you for your quality time!\\n\\n\"}]"
      ]
     },
     "execution_count": 297,
     "metadata": {},
     "output_type": "execute_result"
    }
   ],
   "source": [
    "prompt.messages"
   ]
  },
  {
   "cell_type": "code",
   "execution_count": 298,
   "id": "7d6a67e9-5165-4684-ad63-8b46f5c5f5c9",
   "metadata": {},
   "outputs": [],
   "source": [
    "llm_aspect_sentiment = ChatGroq(temperature=0, model_name=\"llama3-groq-70b-8192-tool-use-preview\",api_key=groq_api_key).with_structured_output(AspectLevelSentiments)\n",
    "result = llm_aspect_sentiment.invoke(prompt.messages)"
   ]
  },
  {
   "cell_type": "code",
   "execution_count": 299,
   "id": "244ab335-54fb-4ffd-8c2e-e5398ad5762c",
   "metadata": {},
   "outputs": [
    {
     "name": "stdout",
     "output_type": "stream",
     "text": [
      "AspectLevelSentiments(\n",
      "    product_aspect=None,\n",
      "    sentiment=None,\n",
      "    sentiment_term=None,\n",
      "    Sentiments=[\n",
      "        AspectLevelSentiment(\n",
      "            product_aspect='Charging',\n",
      "            sentiment='positive',\n",
      "            sentiment_term='Fast Charging',\n",
      "        ),\n",
      "        AspectLevelSentiment(\n",
      "            product_aspect='Mic Quality',\n",
      "            sentiment='neutral',\n",
      "            sentiment_term='Interesting',\n",
      "        ),\n",
      "        AspectLevelSentiment(\n",
      "            product_aspect='Volume Control & Sound Quality',\n",
      "            sentiment='positive',\n",
      "            sentiment_term='Great for music listeners',\n",
      "        ),\n",
      "        AspectLevelSentiment(\n",
      "            product_aspect='Appearance',\n",
      "            sentiment='positive',\n",
      "            sentiment_term='Professional',\n",
      "        ),\n",
      "        AspectLevelSentiment(\n",
      "            product_aspect='Build Quality',\n",
      "            sentiment='negative',\n",
      "            sentiment_term='Not satisfied',\n",
      "        ),\n",
      "        AspectLevelSentiment(\n",
      "            product_aspect='Button Control',\n",
      "            sentiment='neutral',\n",
      "            sentiment_term='Limited but good for simplicity',\n",
      "        ),\n",
      "        AspectLevelSentiment(\n",
      "            product_aspect='Noise Cancellation',\n",
      "            sentiment='positive',\n",
      "            sentiment_term='Best part',\n",
      "        ),\n",
      "        AspectLevelSentiment(\n",
      "            product_aspect='Bluetooth 5.3',\n",
      "            sentiment='positive',\n",
      "            sentiment_term='Works pretty well',\n",
      "        ),\n",
      "        AspectLevelSentiment(\n",
      "            product_aspect='IP55 Rating',\n",
      "            sentiment='positive',\n",
      "            sentiment_term='Resistant to water splashes/sweat and light amount of dust',\n",
      "        ),\n",
      "        AspectLevelSentiment(\n",
      "            product_aspect='Dolby Atmos',\n",
      "            sentiment='neutral',\n",
      "            sentiment_term='Seems to work',\n",
      "        ),\n",
      "        AspectLevelSentiment(\n",
      "            product_aspect='App',\n",
      "            sentiment='positive',\n",
      "            sentiment_term='Pretty decent',\n",
      "        ),\n",
      "        AspectLevelSentiment(\n",
      "            product_aspect='Overall',\n",
      "            sentiment='positive',\n",
      "            sentiment_term='Extremely good for their price range',\n",
      "        ),\n",
      "    ],\n",
      ")\n"
     ]
    }
   ],
   "source": [
    "pprint(result)"
   ]
  },
  {
   "cell_type": "markdown",
   "id": "7150acfe-6b7e-464f-a5e3-51e3efb027fd",
   "metadata": {},
   "source": [
    "#### POS tagging"
   ]
  },
  {
   "cell_type": "code",
   "execution_count": 305,
   "id": "79cf3b4a-624e-41c4-ba32-689ce92efa69",
   "metadata": {},
   "outputs": [],
   "source": [
    "raw_template = \"\"\"\n",
    "- name: system instructions\n",
    "  role: system\n",
    "  content: |\n",
    "    You are an expert in identifying the parts of speech tag of each word in the given text and extracting properties defined in the POSTagger function. \n",
    "    Do not respond with anything other than the text mentioned in the text.\n",
    "\n",
    "- name: user query\n",
    "  role: user\n",
    "  content: |\n",
    "    Please extract properties defined in the POSTagger function: \n",
    "    {{ escape_special_characters(text) }}\n",
    "\"\"\""
   ]
  },
  {
   "cell_type": "code",
   "execution_count": 311,
   "id": "ccf35b12-8111-40e7-a243-e06c2af3e830",
   "metadata": {},
   "outputs": [],
   "source": [
    "class POSTag(BaseModel):\n",
    "    word: Optional[str] = Field(description=\"Word within sentence\")\n",
    "    pos_tag: Optional[str]= Field(description=\"POS tag of the word\")\n",
    "    pos_description: Optional[str] = Field(description=\"Full form of the tag and short description\")\n",
    "\n",
    "class POSTagger(BaseModel):\n",
    "    pos_tags: List[POSTag]"
   ]
  },
  {
   "cell_type": "code",
   "execution_count": 312,
   "id": "5fe95494-95c3-4a68-93af-116d7198c9b1",
   "metadata": {},
   "outputs": [],
   "source": [
    "prompt = Prompt(\n",
    "    raw_template=raw_template,\n",
    "    template_data={\"text\": \"The quick brown fox jumps over the lazy dog.\"}\n",
    ") "
   ]
  },
  {
   "cell_type": "code",
   "execution_count": 313,
   "id": "0a63fc5a-a3b5-44d4-99da-6dabd635caf2",
   "metadata": {},
   "outputs": [
    {
     "data": {
      "text/plain": [
       "[{'role': 'system', 'content': 'You are an expert in identifying the parts of speech tag of each word in the given text and extracting properties defined in the POSTagger function. \\nDo not respond with anything other than the text mentioned in the text.'}, {'role': 'user', 'content': 'Please extract properties defined in the POSTagger function: \\nThe quick brown fox jumps over the lazy dog.'}]"
      ]
     },
     "execution_count": 313,
     "metadata": {},
     "output_type": "execute_result"
    }
   ],
   "source": [
    "prompt.messages"
   ]
  },
  {
   "cell_type": "code",
   "execution_count": 314,
   "id": "3436d55a-eb9a-4dc6-aea3-11bfe6e93203",
   "metadata": {},
   "outputs": [],
   "source": [
    "llm_pos_tagging = ChatGroq(temperature=0, model_name=\"llama3-groq-70b-8192-tool-use-preview\",api_key=groq_api_key).with_structured_output(POSTagger)\n",
    "result = llm_pos_tagging.invoke(prompt.messages)"
   ]
  },
  {
   "cell_type": "code",
   "execution_count": 315,
   "id": "7520701a-29f0-440b-abe7-3577d12dff37",
   "metadata": {},
   "outputs": [
    {
     "name": "stdout",
     "output_type": "stream",
     "text": [
      "POSTagger(\n",
      "    pos_tags=[\n",
      "        POSTag(\n",
      "            word='The',\n",
      "            pos_tag='DT',\n",
      "            pos_description='Determiner',\n",
      "        ),\n",
      "        POSTag(\n",
      "            word='quick',\n",
      "            pos_tag='JJ',\n",
      "            pos_description='Adjective',\n",
      "        ),\n",
      "        POSTag(\n",
      "            word='brown',\n",
      "            pos_tag='JJ',\n",
      "            pos_description='Adjective',\n",
      "        ),\n",
      "        POSTag(\n",
      "            word='fox',\n",
      "            pos_tag='NN',\n",
      "            pos_description='Noun, singular or mass',\n",
      "        ),\n",
      "        POSTag(\n",
      "            word='jumps',\n",
      "            pos_tag='VBZ',\n",
      "            pos_description='Verb, present tense, third person singular',\n",
      "        ),\n",
      "        POSTag(\n",
      "            word='over',\n",
      "            pos_tag='IN',\n",
      "            pos_description='Preposition or subordinating conjunction',\n",
      "        ),\n",
      "        POSTag(\n",
      "            word='the',\n",
      "            pos_tag='DT',\n",
      "            pos_description='Determiner',\n",
      "        ),\n",
      "        POSTag(\n",
      "            word='lazy',\n",
      "            pos_tag='JJ',\n",
      "            pos_description='Adjective',\n",
      "        ),\n",
      "        POSTag(\n",
      "            word='dog',\n",
      "            pos_tag='NN',\n",
      "            pos_description='Noun, singular or mass',\n",
      "        ),\n",
      "    ],\n",
      ")\n"
     ]
    }
   ],
   "source": [
    "pprint(result)"
   ]
  }
 ],
 "metadata": {
  "kernelspec": {
   "display_name": "Python 3 (ipykernel)",
   "language": "python",
   "name": "python3"
  },
  "language_info": {
   "codemirror_mode": {
    "name": "ipython",
    "version": 3
   },
   "file_extension": ".py",
   "mimetype": "text/x-python",
   "name": "python",
   "nbconvert_exporter": "python",
   "pygments_lexer": "ipython3",
   "version": "3.12.2"
  }
 },
 "nbformat": 4,
 "nbformat_minor": 5
}
