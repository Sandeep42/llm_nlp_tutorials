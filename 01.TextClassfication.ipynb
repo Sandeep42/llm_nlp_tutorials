{
 "cells": [
  {
   "cell_type": "markdown",
   "id": "f8331a56-3ce2-4fc8-809b-100f3c9cde34",
   "metadata": {},
   "source": [
    "### Importing libraries"
   ]
  },
  {
   "cell_type": "code",
   "execution_count": 240,
   "id": "5036f611-49c4-4988-aa24-af7094ed7537",
   "metadata": {},
   "outputs": [],
   "source": [
    "from langchain_core.prompts import ChatPromptTemplate\n",
    "from langchain_groq import ChatGroq\n",
    "from typing import List, Literal, Annotated\n",
    "from langchain_core.pydantic_v1 import BaseModel, Field\n",
    "from langchain_core.tools import tool\n",
    "import getpass\n",
    "import numpy as np\n",
    "from datasets import load_dataset\n",
    "from prompt_poet import Prompt\n",
    "from tqdm import tqdm\n",
    "import pandas as pd"
   ]
  },
  {
   "cell_type": "markdown",
   "id": "bed202a8-d17d-4b08-a09e-f9e9d1fcea84",
   "metadata": {},
   "source": [
    "### Groq Init"
   ]
  },
  {
   "cell_type": "code",
   "execution_count": 2,
   "id": "07edd72a-a2a5-4b3b-946b-67d6f2e06953",
   "metadata": {},
   "outputs": [
    {
     "name": "stdin",
     "output_type": "stream",
     "text": [
      " ········\n"
     ]
    }
   ],
   "source": [
    "groq_api_key = getpass.getpass()"
   ]
  },
  {
   "cell_type": "code",
   "execution_count": 3,
   "id": "36825404-213e-45e4-b64f-97b762a1d85a",
   "metadata": {},
   "outputs": [],
   "source": [
    "llama_70b_llm = ChatGroq(api_key=groq_api_key, temperature=0, model_name=\"llama3-groq-70b-8192-tool-use-preview\")"
   ]
  },
  {
   "cell_type": "markdown",
   "id": "4f20e51c-583d-4aa6-afd7-950eb1551130",
   "metadata": {},
   "source": [
    "### Classification Models"
   ]
  },
  {
   "cell_type": "markdown",
   "id": "a52a26a1-0387-4ef3-a7b7-d0419cf21200",
   "metadata": {},
   "source": [
    "###### Traditional Models\n",
    "\n",
    "- Data Collection and Labelling\n",
    "- Feature Engineering\n",
    "- Model Training & Validation\n",
    "- Once the model is built, inference is efficient because of small model sizes.\n",
    "\n",
    "Approaches\n",
    "\n",
    "- TfIdf Vectorization + Classifier (Navie Bayes, Logistic Regression etc.)\n",
    "- Word2Vec + Classifier Head\n",
    "- BERT encoder + Classification\n",
    "\n",
    "Drawbacks\n",
    "\n",
    "- Time to label datasets\n",
    "- Out of Vocabulary Words\n",
    "- Generalization Error"
   ]
  },
  {
   "cell_type": "markdown",
   "id": "58925653-de88-4b4e-a87a-e0246599f72c",
   "metadata": {},
   "source": [
    "##### LLMs\n",
    "\n",
    "- Zero Shot or few shot learners\n",
    "- No feature engineering required\n",
    "- Can be finetuned\n",
    "- Great out-of-sample performance\n",
    "\n",
    "Drawbacks\n",
    "\n",
    "- Huge parameter LLMs at the backend\n",
    "- Proprietary models, data security and privacy issues\n",
    "- Inference is costly, takes time, needs high coumputing resources\n",
    "- Smaller LLMs with similar performance on the level of GPT are needed for finetuning."
   ]
  },
  {
   "cell_type": "markdown",
   "id": "a6c88cd8-1d3e-4703-9f29-b212c7949ff0",
   "metadata": {},
   "source": [
    "#### Zero shot Example"
   ]
  },
  {
   "cell_type": "code",
   "execution_count": 4,
   "id": "a311aae7-2a9b-46ec-a9c2-13bb0f3f4205",
   "metadata": {},
   "outputs": [],
   "source": [
    "raw_template = \"\"\"\n",
    "- name: system instructions\n",
    "  role: system\n",
    "  content: |\n",
    "   You are an expert in classifying a given text into {{text_classfication_classes}}\n",
    "\n",
    "- name: user query\n",
    "  role: user\n",
    "  content: |\n",
    "   Extract the label of the following text: {{text}}\n",
    "\"\"\""
   ]
  },
  {
   "cell_type": "code",
   "execution_count": 5,
   "id": "eb361784-c471-47af-b67a-7b2267386a20",
   "metadata": {},
   "outputs": [],
   "source": [
    "template_data = {\"text_classfication_classes\": \"Spam and Ham\", \"text\": \"Win $1000000 NOW!!!\"}"
   ]
  },
  {
   "cell_type": "code",
   "execution_count": 6,
   "id": "6809e381-9d97-48d3-95f8-3135ef5c1c3b",
   "metadata": {},
   "outputs": [],
   "source": [
    "prompt = Prompt(\n",
    "    raw_template=raw_template,\n",
    "    template_data=template_data\n",
    ")\n"
   ]
  },
  {
   "cell_type": "code",
   "execution_count": 7,
   "id": "2fc1f24d-84b1-454d-9eaf-c727a4f5480f",
   "metadata": {},
   "outputs": [
    {
     "data": {
      "text/plain": [
       "[{'role': 'system',\n",
       "  'content': 'You are an expert in classifying a given text into Spam and Ham'},\n",
       " {'role': 'user',\n",
       "  'content': 'Extract the label of the following text: Win $1000000 NOW!!!'}]"
      ]
     },
     "execution_count": 7,
     "metadata": {},
     "output_type": "execute_result"
    }
   ],
   "source": [
    "prompt.messages"
   ]
  },
  {
   "cell_type": "code",
   "execution_count": 8,
   "id": "ae8e90da-ea0c-432a-bf30-99d00687d2cf",
   "metadata": {},
   "outputs": [],
   "source": [
    "response = llama_70b_llm.invoke(prompt.messages)"
   ]
  },
  {
   "cell_type": "code",
   "execution_count": 9,
   "id": "62ddb80e-a44f-4c16-92e9-c2ec0c8aeb54",
   "metadata": {},
   "outputs": [
    {
     "name": "stdout",
     "output_type": "stream",
     "text": [
      "The label of the given text is Spam.\n"
     ]
    }
   ],
   "source": [
    "print(response.content)"
   ]
  },
  {
   "cell_type": "markdown",
   "id": "d977fda8-f57a-4b08-a5ba-edd9ab5b8235",
   "metadata": {},
   "source": [
    "#### Adding Structured Outputs"
   ]
  },
  {
   "cell_type": "code",
   "execution_count": 61,
   "id": "1ba2a8c7-776a-4f7f-8764-85d21cb6a693",
   "metadata": {},
   "outputs": [],
   "source": [
    "class Classification(BaseModel):\n",
    "    classification_label: str= Field(enum=[\"spam\",\"ham\"])\n",
    "    explanation: str = Field(description=\"Explain why you gave that label to this text. Keep your answers short and precise. I will tip you $20 for a good explanation. \")"
   ]
  },
  {
   "cell_type": "code",
   "execution_count": 62,
   "id": "91cca2bb-94de-43e2-b3ad-c3bf8bd6e60a",
   "metadata": {},
   "outputs": [],
   "source": [
    "llama_70b_llm_cls_head = llama_70b_llm.with_structured_output(Classification)"
   ]
  },
  {
   "cell_type": "code",
   "execution_count": 63,
   "id": "d9e70663-64c6-4930-8340-f756a5fb0342",
   "metadata": {},
   "outputs": [
    {
     "data": {
      "text/plain": [
       "[{'role': 'system',\n",
       "  'content': 'You are an expert in classifying a given text into Spam and Ham'},\n",
       " {'role': 'user',\n",
       "  'content': 'Extract the label of the following text: Change in TER Schemes of quant mutual fund'}]"
      ]
     },
     "execution_count": 63,
     "metadata": {},
     "output_type": "execute_result"
    }
   ],
   "source": [
    "prompt.messages"
   ]
  },
  {
   "cell_type": "code",
   "execution_count": 64,
   "id": "cb9a09cd-9e1e-4592-be6a-5435b46eb641",
   "metadata": {},
   "outputs": [],
   "source": [
    "result = llama_70b_llm_cls_head.invoke(prompt.messages)"
   ]
  },
  {
   "cell_type": "code",
   "execution_count": 65,
   "id": "abfebe28-6e89-4a81-90a4-198dd1e5cac7",
   "metadata": {},
   "outputs": [
    {
     "data": {
      "text/plain": [
       "Classification(classification_label='ham', explanation='The text is about a change in the TER schemes of a mutual fund, which is a legitimate topic of discussion.')"
      ]
     },
     "execution_count": 65,
     "metadata": {},
     "output_type": "execute_result"
    }
   ],
   "source": [
    "result"
   ]
  },
  {
   "cell_type": "code",
   "execution_count": 66,
   "id": "7ddc11c4-4371-4ad7-b2a6-4c8ccae20534",
   "metadata": {},
   "outputs": [],
   "source": [
    "template_data = {\"text_classfication_classes\": \"Spam and Ham\", \"text\": \"Change in TER Schemes of quant mutual fund\"}\n",
    "\n",
    "non_spam_prompt = Prompt(\n",
    "    raw_template=raw_template,\n",
    "    template_data=template_data\n",
    ")\n",
    "prompt = Prompt(\n",
    "    raw_template=raw_template,\n",
    "    template_data=template_data\n",
    ")\n"
   ]
  },
  {
   "cell_type": "code",
   "execution_count": 67,
   "id": "2afe27b5-96ce-4eb1-88ba-2f659e49bd68",
   "metadata": {},
   "outputs": [],
   "source": [
    "result = llama_70b_llm_cls_head.invoke(prompt.messages)"
   ]
  },
  {
   "cell_type": "code",
   "execution_count": 68,
   "id": "464c16ff-0dbf-4704-b932-20d1180d267a",
   "metadata": {},
   "outputs": [
    {
     "data": {
      "text/plain": [
       "Classification(classification_label='ham', explanation='The text is about a change in the TER schemes of a mutual fund, which is a legitimate topic of discussion.')"
      ]
     },
     "execution_count": 68,
     "metadata": {},
     "output_type": "execute_result"
    }
   ],
   "source": [
    "result"
   ]
  },
  {
   "cell_type": "markdown",
   "id": "d2ce9844-521d-4199-8407-4d891bb47b19",
   "metadata": {},
   "source": [
    "#### Few Shot Examples\n",
    "\n",
    "- In Zero shot learning, we are only relying on LLMs pretraining\n",
    "- In a few shot approach, we feed the LLM with few examples from the training set and their labels."
   ]
  },
  {
   "cell_type": "code",
   "execution_count": 69,
   "id": "132f1da1-95f9-4314-85af-ccd625a3e25d",
   "metadata": {},
   "outputs": [],
   "source": [
    "ds = load_dataset(\"ucirvine/sms_spam\")['train'].train_test_split(test_size=0.01)"
   ]
  },
  {
   "cell_type": "code",
   "execution_count": 70,
   "id": "f1aebbef-b252-4e59-a28f-4623eae061b4",
   "metadata": {},
   "outputs": [
    {
     "data": {
      "text/plain": [
       "array([3836, 5232, 5160,  570,  128])"
      ]
     },
     "execution_count": 70,
     "metadata": {},
     "output_type": "execute_result"
    }
   ],
   "source": [
    "np.random.randint(0, len(ds['train']), 5)"
   ]
  },
  {
   "cell_type": "code",
   "execution_count": 71,
   "id": "24cb5312-b298-4e77-8a65-cf2f669b8bc0",
   "metadata": {},
   "outputs": [
    {
     "data": {
      "text/plain": [
       "{'sms': ['Maybe i could get book out tomo then return it immediately ..? Or something.\\n',\n",
       "  \"Ok... Help me ask if she's working tmr a not?\\n\",\n",
       "  'Not yet chikku..wat abt u?\\n',\n",
       "  ':-) :-)\\n',\n",
       "  'Dear i am not denying your words please\\n'],\n",
       " 'label': [0, 0, 0, 0, 0]}"
      ]
     },
     "execution_count": 71,
     "metadata": {},
     "output_type": "execute_result"
    }
   ],
   "source": [
    "ds['train'][np.random.randint(0, len(ds['train']), 5)]"
   ]
  },
  {
   "cell_type": "markdown",
   "id": "e8c3c1e5-8867-4656-8e3f-a8927d281272",
   "metadata": {},
   "source": [
    "Let's select 5 examples from each class to train few shot model."
   ]
  },
  {
   "cell_type": "code",
   "execution_count": 273,
   "id": "4951f01e-ae40-4f8b-a1a0-022a73b00b6a",
   "metadata": {},
   "outputs": [],
   "source": [
    "def generate_samples(dataset, num_samples_per_class=5, label_column=None, text_column=None):\n",
    "    if label_column is None or text_column is None:\n",
    "        raise ValueError(\"Both label_column and text_column must be provided.\")\n",
    "\n",
    "    # Get unique labels and shuffle the dataset\n",
    "    unique_labels = dataset.unique(label_column)\n",
    "    dataset = dataset.shuffle(seed=42)\n",
    "    label_names = dataset.features[label_column].names\n",
    "\n",
    "    # Initialize a dictionary to store samples per class name\n",
    "    samples_per_class = {label_name: [] for label_name in label_names}\n",
    "\n",
    "    # Collect samples for each class\n",
    "    for example in dataset:\n",
    "        label = example[label_column]\n",
    "        label_name = label_names[label]\n",
    "        if len(samples_per_class[label_name]) < num_samples_per_class:\n",
    "            samples_per_class[label_name].append(example)\n",
    "\n",
    "    # Create a list of {label, text} pairs\n",
    "    label_text_pairs = []\n",
    "    for label_name, samples in samples_per_class.items():\n",
    "        for sample in samples:\n",
    "            label_text_pairs.append({\"label\": label_name, \"text\": sample[text_column]})\n",
    "\n",
    "    # Yield (text, label) pairs\n",
    "    for each_sample in label_text_pairs:\n",
    "        yield (each_sample['text'].strip(), each_sample['label'].strip())\n"
   ]
  },
  {
   "cell_type": "code",
   "execution_count": 276,
   "id": "007708ee-e0b0-421b-b70d-dd04795b6e46",
   "metadata": {},
   "outputs": [],
   "source": [
    "samples = generate_samples(ds['train'],text_column='sms',label_column='label')"
   ]
  },
  {
   "cell_type": "code",
   "execution_count": 277,
   "id": "33746b8a-2925-4bb2-a351-faa7879c15a1",
   "metadata": {},
   "outputs": [],
   "source": [
    "samples = list(samples)"
   ]
  },
  {
   "cell_type": "code",
   "execution_count": 278,
   "id": "c2d80fea-585d-4a0e-bce8-fa08d8345569",
   "metadata": {},
   "outputs": [
    {
     "data": {
      "text/plain": [
       "[('Waiting for your call.', 'ham'),\n",
       " ('Ok lor... Sony ericsson salesman... I ask shuhui then she say quite gd 2 use so i considering...',\n",
       "  'ham'),\n",
       " ('So do you have samus shoulders yet', 'ham'),\n",
       " ('I attended but nothing is there.', 'ham'),\n",
       " (\"Thank you so much. When we skyped wit kz and sura, we didnt get the pleasure of your company. Hope you are good. We've given you ultimatum oh! We are countin down to aburo. Enjoy!\",\n",
       "  'ham'),\n",
       " ('Great News! Call FREEFONE 08006344447 to claim your guaranteed £1000 CASH or £2000 gift. Speak to a live operator NOW!',\n",
       "  'spam'),\n",
       " ('FREE for 1st week! No1 Nokia tone 4 ur mob every week just txt NOKIA to 8007 Get txting and tell ur mates www.getzed.co.uk POBox 36504 W45WQ norm150p/tone 16+',\n",
       "  'spam'),\n",
       " ('Hey I am really horny want to chat or see me naked text hot to 69698 text charged at 150pm to unsubscribe text stop 69698',\n",
       "  'spam'),\n",
       " ('No 1 POLYPHONIC tone 4 ur mob every week! Just txt PT2 to 87575. 1st Tone FREE ! so get txtin now and tell ur friends. 150p/tone. 16 reply HL 4info',\n",
       "  'spam'),\n",
       " ('Promotion Number: 8714714 - UR awarded a City Break and could WIN a £200 Summer Shopping spree every WK. Txt STORE to 88039 . SkilGme. TsCs087147403231Winawk!Age16 £1.50perWKsub',\n",
       "  'spam')]"
      ]
     },
     "execution_count": 278,
     "metadata": {},
     "output_type": "execute_result"
    }
   ],
   "source": [
    "samples"
   ]
  },
  {
   "cell_type": "code",
   "execution_count": 199,
   "id": "c9572306-527c-447e-9f30-33bfefacd797",
   "metadata": {},
   "outputs": [],
   "source": [
    "few_shot_template = \"\"\"\n",
    "- name: system instructions\n",
    "  role: system\n",
    "  content: |\n",
    "   You are an expert in classifying a given text into {{ text_classfication_classes }}.\n",
    "   These are some of the examples that you can use to do this task.\n",
    "   {% for each_example, each_label in samples %} \n",
    "   Text: {{ each_example }} Label: {{ each_label}}\n",
    "   {% endfor %}\n",
    "\n",
    "- name: user query\n",
    "  role: user\n",
    "  content: |\n",
    "   Extract the label of the following text: \n",
    "   {{text}} Label: \n",
    "\"\"\""
   ]
  },
  {
   "cell_type": "code",
   "execution_count": 200,
   "id": "f3f6f2a7-c51c-4568-8374-6e71fcae41cd",
   "metadata": {},
   "outputs": [],
   "source": [
    "template_data = {\"text_classfication_classes\": \"Spam or Ham\",\n",
    "                \"text\": \"No Deposit Required. Play for FREE and Win for Real!..-ettzhr.\",\n",
    "                \"samples\":samples}"
   ]
  },
  {
   "cell_type": "code",
   "execution_count": 201,
   "id": "6e16ee04-af2c-411a-89a9-7b21ce03f98c",
   "metadata": {},
   "outputs": [],
   "source": [
    "few_shot_prompt = Prompt(\n",
    "    raw_template=few_shot_template,\n",
    "    template_data=template_data\n",
    ")"
   ]
  },
  {
   "cell_type": "code",
   "execution_count": 202,
   "id": "da1170bf-6598-4dd9-bfb8-ab14577da87b",
   "metadata": {},
   "outputs": [
    {
     "data": {
      "text/plain": [
       "[{'role': 'system',\n",
       "  'content': \"You are an expert in classifying a given text into Spam or Ham.\\nThese are some of the examples that you can use to do this task.\\n \\nText: Waiting for your call. Label: ham\\n \\nText: Ok lor... Sony ericsson salesman... I ask shuhui then she say quite gd 2 use so i considering... Label: ham\\n \\nText: So do you have samus shoulders yet Label: ham\\n \\nText: I attended but nothing is there. Label: ham\\n \\nText: Thank you so much. When we skyped wit kz and sura, we didnt get the pleasure of your company. Hope you are good. We've given you ultimatum oh! We are countin down to aburo. Enjoy! Label: ham\\n \\nText: Great News! Call FREEFONE 08006344447 to claim your guaranteed £1000 CASH or £2000 gift. Speak to a live operator NOW! Label: spam\\n \\nText: FREE for 1st week! No1 Nokia tone 4 ur mob every week just txt NOKIA to 8007 Get txting and tell ur mates www.getzed.co.uk POBox 36504 W45WQ norm150p/tone 16+ Label: spam\\n \\nText: Hey I am really horny want to chat or see me naked text hot to 69698 text charged at 150pm to unsubscribe text stop 69698 Label: spam\\n \\nText: No 1 POLYPHONIC tone 4 ur mob every week! Just txt PT2 to 87575. 1st Tone FREE ! so get txtin now and tell ur friends. 150p/tone. 16 reply HL 4info Label: spam\\n \\nText: Promotion Number: 8714714 - UR awarded a City Break and could WIN a £200 Summer Shopping spree every WK. Txt STORE to 88039 . SkilGme. TsCs087147403231Winawk!Age16 £1.50perWKsub Label: spam\"},\n",
       " {'role': 'user',\n",
       "  'content': 'Extract the label of the following text: \\nNo Deposit Required. Play for FREE and Win for Real!..-ettzhr. Label:'}]"
      ]
     },
     "execution_count": 202,
     "metadata": {},
     "output_type": "execute_result"
    }
   ],
   "source": [
    "few_shot_prompt.messages"
   ]
  },
  {
   "cell_type": "code",
   "execution_count": 203,
   "id": "a62d7170-5569-4b7d-8943-04dbe0671587",
   "metadata": {},
   "outputs": [
    {
     "name": "stdout",
     "output_type": "stream",
     "text": [
      "You are an expert in classifying a given text into Spam or Ham.\n",
      "These are some of the examples that you can use to do this task.\n",
      " \n",
      "Text: Waiting for your call. Label: ham\n",
      " \n",
      "Text: Ok lor... Sony ericsson salesman... I ask shuhui then she say quite gd 2 use so i considering... Label: ham\n",
      " \n",
      "Text: So do you have samus shoulders yet Label: ham\n",
      " \n",
      "Text: I attended but nothing is there. Label: ham\n",
      " \n",
      "Text: Thank you so much. When we skyped wit kz and sura, we didnt get the pleasure of your company. Hope you are good. We've given you ultimatum oh! We are countin down to aburo. Enjoy! Label: ham\n",
      " \n",
      "Text: Great News! Call FREEFONE 08006344447 to claim your guaranteed £1000 CASH or £2000 gift. Speak to a live operator NOW! Label: spam\n",
      " \n",
      "Text: FREE for 1st week! No1 Nokia tone 4 ur mob every week just txt NOKIA to 8007 Get txting and tell ur mates www.getzed.co.uk POBox 36504 W45WQ norm150p/tone 16+ Label: spam\n",
      " \n",
      "Text: Hey I am really horny want to chat or see me naked text hot to 69698 text charged at 150pm to unsubscribe text stop 69698 Label: spam\n",
      " \n",
      "Text: No 1 POLYPHONIC tone 4 ur mob every week! Just txt PT2 to 87575. 1st Tone FREE ! so get txtin now and tell ur friends. 150p/tone. 16 reply HL 4info Label: spam\n",
      " \n",
      "Text: Promotion Number: 8714714 - UR awarded a City Break and could WIN a £200 Summer Shopping spree every WK. Txt STORE to 88039 . SkilGme. TsCs087147403231Winawk!Age16 £1.50perWKsub Label: spam\n"
     ]
    }
   ],
   "source": [
    "print(few_shot_prompt.messages[0]['content'])"
   ]
  },
  {
   "cell_type": "code",
   "execution_count": 204,
   "id": "8a565045-7811-468b-9c24-e1fa16ac254b",
   "metadata": {},
   "outputs": [
    {
     "data": {
      "text/plain": [
       "[{'role': 'system',\n",
       "  'content': 'You are an expert in classifying a given text into Spam and Ham'},\n",
       " {'role': 'user',\n",
       "  'content': 'Extract the label of the following text: Change in TER Schemes of quant mutual fund'}]"
      ]
     },
     "execution_count": 204,
     "metadata": {},
     "output_type": "execute_result"
    }
   ],
   "source": [
    "prompt.messages"
   ]
  },
  {
   "cell_type": "code",
   "execution_count": 205,
   "id": "6ef1c449-173b-4007-a911-c214fa5c2ed7",
   "metadata": {},
   "outputs": [],
   "source": [
    "llama_70b_llm_cls_head = llama_70b_llm.with_structured_output(Classification)"
   ]
  },
  {
   "cell_type": "code",
   "execution_count": 206,
   "id": "d225a19c-9799-4d6d-931f-ac8cf7d9647c",
   "metadata": {},
   "outputs": [],
   "source": [
    "result = llama_70b_llm_cls_head.invoke(few_shot_prompt.messages)"
   ]
  },
  {
   "cell_type": "code",
   "execution_count": 207,
   "id": "aedae384-164a-46b3-9efa-4eb0cdbea994",
   "metadata": {},
   "outputs": [
    {
     "data": {
      "text/plain": [
       "Classification(classification_label='spam', explanation='The text contains promotional language and a call to action, which is typical of spam messages.')"
      ]
     },
     "execution_count": 207,
     "metadata": {},
     "output_type": "execute_result"
    }
   ],
   "source": [
    "result"
   ]
  },
  {
   "cell_type": "markdown",
   "id": "33dc2027-76aa-48fe-892a-c03397bdd066",
   "metadata": {},
   "source": [
    "##### Validation"
   ]
  },
  {
   "cell_type": "code",
   "execution_count": 264,
   "id": "84f3a26b-9685-4291-82b0-653aba2edea6",
   "metadata": {},
   "outputs": [
    {
     "name": "stderr",
     "output_type": "stream",
     "text": [
      "100%|███████████████████████████████████████████████████████████████████████████████████| 56/56 [01:35<00:00,  1.70s/it]\n"
     ]
    }
   ],
   "source": [
    "zero_shot_results= []\n",
    "for each_sample in tqdm(ds['test']):\n",
    "    try:\n",
    "        template_data = {\"text_classfication_classes\": \"Spam and Ham\", \"text\": each_sample['sms'].strip()}\n",
    "    \n",
    "        zero_shot_prompt = Prompt(\n",
    "            raw_template=raw_template,\n",
    "            template_data=template_data\n",
    "        )\n",
    "        validation = llama_70b_llm_cls_head.invoke(zero_shot_prompt.messages)\n",
    "        each_sample['classification_label'] = validation.classification_label\n",
    "        each_sample['explanation'] = validation.explanation\n",
    "        zero_shot_results.append(each_sample)\n",
    "    except:\n",
    "        import time\n",
    "        time.sleep(10)"
   ]
  },
  {
   "cell_type": "code",
   "execution_count": 265,
   "id": "0e901754-2449-430a-adf9-aa091aef303c",
   "metadata": {},
   "outputs": [],
   "source": [
    "zero_shot_results = pd.DataFrame(zero_shot_results)"
   ]
  },
  {
   "cell_type": "code",
   "execution_count": 266,
   "id": "fac5a1ea-c51d-41c1-a94f-2a8d968444b7",
   "metadata": {},
   "outputs": [],
   "source": [
    "zero_shot_results['classification_id'] = zero_shot_results['classification_label'].apply(lambda x: 1 if x == \"spam\" else 0)"
   ]
  },
  {
   "cell_type": "code",
   "execution_count": 268,
   "id": "2d452680-8b90-451d-91f1-52710fdec5d1",
   "metadata": {},
   "outputs": [
    {
     "data": {
      "text/plain": [
       "0.9818181818181818"
      ]
     },
     "execution_count": 268,
     "metadata": {},
     "output_type": "execute_result"
    }
   ],
   "source": [
    "# Acuuracy\n",
    "(zero_shot_results['label'] == zero_shot_results['classification_id']).sum() / zero_shot_results.shape[0]"
   ]
  },
  {
   "cell_type": "code",
   "execution_count": 271,
   "id": "3a4bb5d2-320b-42f0-8453-631b919b3be1",
   "metadata": {},
   "outputs": [
    {
     "data": {
      "text/html": [
       "<div>\n",
       "<style scoped>\n",
       "    .dataframe tbody tr th:only-of-type {\n",
       "        vertical-align: middle;\n",
       "    }\n",
       "\n",
       "    .dataframe tbody tr th {\n",
       "        vertical-align: top;\n",
       "    }\n",
       "\n",
       "    .dataframe thead th {\n",
       "        text-align: right;\n",
       "    }\n",
       "</style>\n",
       "<table border=\"1\" class=\"dataframe\">\n",
       "  <thead>\n",
       "    <tr style=\"text-align: right;\">\n",
       "      <th></th>\n",
       "      <th>sms</th>\n",
       "      <th>label</th>\n",
       "      <th>classification_label</th>\n",
       "      <th>explanation</th>\n",
       "      <th>classification_id</th>\n",
       "    </tr>\n",
       "  </thead>\n",
       "  <tbody>\n",
       "    <tr>\n",
       "      <th>15</th>\n",
       "      <td>I've got  &amp;lt;#&amp;gt; , any way I could pick up?\\n</td>\n",
       "      <td>0</td>\n",
       "      <td>spam</td>\n",
       "      <td>The text contains a suspicious link and is ask...</td>\n",
       "      <td>1</td>\n",
       "    </tr>\n",
       "  </tbody>\n",
       "</table>\n",
       "</div>"
      ],
      "text/plain": [
       "                                                 sms  label  \\\n",
       "15  I've got  &lt;#&gt; , any way I could pick up?\\n      0   \n",
       "\n",
       "   classification_label                                        explanation  \\\n",
       "15                 spam  The text contains a suspicious link and is ask...   \n",
       "\n",
       "    classification_id  \n",
       "15                  1  "
      ]
     },
     "execution_count": 271,
     "metadata": {},
     "output_type": "execute_result"
    }
   ],
   "source": [
    "zero_shot_results[zero_shot_results['label'] != zero_shot_results['classification_id']]"
   ]
  },
  {
   "cell_type": "code",
   "execution_count": null,
   "id": "5d0711e8-1930-4dc2-b613-91e816f792d4",
   "metadata": {},
   "outputs": [],
   "source": [
    "few_shot_results['classification_id'] = few_shot_results['classification_label'].apply(lambda x: 1 if x == \"spam\" else 0)"
   ]
  },
  {
   "cell_type": "code",
   "execution_count": 238,
   "id": "e6088996-4c74-497d-ae87-cd34ff998095",
   "metadata": {},
   "outputs": [],
   "source": [
    "few_shot_results= []\n",
    "for each_sample in ds['test']:\n",
    "    template_data = {\"text_classfication_classes\": \"Spam or Ham\",\n",
    "                \"text\": each_sample['sms'].strip(),\n",
    "                \"samples\":samples}\n",
    "    few_shot_prompt = Prompt(\n",
    "    raw_template=few_shot_template,\n",
    "    template_data=template_data\n",
    "    )\n",
    "    validation = llama_70b_llm_cls_head.invoke(few_shot_prompt.messages)\n",
    "    each_sample['classification_label'] = validation.classification_label\n",
    "    each_sample['explanation'] = validation.explanation\n",
    "    few_shot_results.append(each_sample)"
   ]
  },
  {
   "cell_type": "code",
   "execution_count": 242,
   "id": "0f7291c1-c4a6-417d-9749-dfc893af03f1",
   "metadata": {},
   "outputs": [],
   "source": [
    "few_shot_results = pd.DataFrame(few_shot_results)"
   ]
  },
  {
   "cell_type": "code",
   "execution_count": 246,
   "id": "9df2bade-59fa-4cf4-af78-68f66773ce8e",
   "metadata": {},
   "outputs": [],
   "source": [
    "few_shot_results['classification_id'] = few_shot_results['classification_label'].apply(lambda x: 1 if x == \"spam\" else 0)"
   ]
  },
  {
   "cell_type": "code",
   "execution_count": 251,
   "id": "0f9bd734-12c5-4300-98b6-4d6b9b9db2c9",
   "metadata": {},
   "outputs": [
    {
     "data": {
      "text/plain": [
       "0.9821428571428571"
      ]
     },
     "execution_count": 251,
     "metadata": {},
     "output_type": "execute_result"
    }
   ],
   "source": [
    "# Acuuracy\n",
    "(few_shot_results['label'] == few_shot_results['classification_id']).sum() / few_shot_results.shape[0]"
   ]
  },
  {
   "cell_type": "code",
   "execution_count": 259,
   "id": "cf041027-e931-4610-95dc-200ef7bc8c7a",
   "metadata": {},
   "outputs": [
    {
     "data": {
      "text/html": [
       "<div>\n",
       "<style scoped>\n",
       "    .dataframe tbody tr th:only-of-type {\n",
       "        vertical-align: middle;\n",
       "    }\n",
       "\n",
       "    .dataframe tbody tr th {\n",
       "        vertical-align: top;\n",
       "    }\n",
       "\n",
       "    .dataframe thead th {\n",
       "        text-align: right;\n",
       "    }\n",
       "</style>\n",
       "<table border=\"1\" class=\"dataframe\">\n",
       "  <thead>\n",
       "    <tr style=\"text-align: right;\">\n",
       "      <th></th>\n",
       "      <th>sms</th>\n",
       "      <th>label</th>\n",
       "      <th>classification_label</th>\n",
       "      <th>explanation</th>\n",
       "      <th>classification_id</th>\n",
       "    </tr>\n",
       "  </thead>\n",
       "  <tbody>\n",
       "    <tr>\n",
       "      <th>45</th>\n",
       "      <td>HCL chennai requires FRESHERS for voice proces...</td>\n",
       "      <td>0</td>\n",
       "      <td>spam</td>\n",
       "      <td>The text contains a job advertisement with a s...</td>\n",
       "      <td>1</td>\n",
       "    </tr>\n",
       "  </tbody>\n",
       "</table>\n",
       "</div>"
      ],
      "text/plain": [
       "                                                  sms  label  \\\n",
       "45  HCL chennai requires FRESHERS for voice proces...      0   \n",
       "\n",
       "   classification_label                                        explanation  \\\n",
       "45                 spam  The text contains a job advertisement with a s...   \n",
       "\n",
       "    classification_id  \n",
       "45                  1  "
      ]
     },
     "execution_count": 259,
     "metadata": {},
     "output_type": "execute_result"
    }
   ],
   "source": [
    "few_shot_results[few_shot_results['label'] != few_shot_results['classification_id']]"
   ]
  },
  {
   "cell_type": "code",
   "execution_count": 256,
   "id": "63cf737c-4aaa-4866-b423-f49ece7f39ce",
   "metadata": {},
   "outputs": [
    {
     "data": {
      "text/plain": [
       "'HCL chennai requires FRESHERS for voice process.Excellent english needed.Salary upto  &lt;#&gt; .Call Ms.Suman  &lt;#&gt;  for Telephonic interview -via Indyarocks.com\\n'"
      ]
     },
     "execution_count": 256,
     "metadata": {},
     "output_type": "execute_result"
    }
   ],
   "source": [
    "few_shot_results[few_shot_results['label'] != few_shot_results['classification_id']]['sms'].iloc[0]"
   ]
  },
  {
   "cell_type": "code",
   "execution_count": 258,
   "id": "760a8e5b-ff3b-4b73-88e7-18f8a49d6539",
   "metadata": {},
   "outputs": [
    {
     "data": {
      "text/plain": [
       "'The text contains a job advertisement with a salary offer and a contact number, which is a common pattern in spam messages.'"
      ]
     },
     "execution_count": 258,
     "metadata": {},
     "output_type": "execute_result"
    }
   ],
   "source": [
    "few_shot_results[few_shot_results['label'] != few_shot_results['classification_id']]['explanation'].iloc[0]"
   ]
  },
  {
   "cell_type": "markdown",
   "id": "dd6a5419-d9e2-456a-a8e4-1c3c7bf86ea4",
   "metadata": {},
   "source": [
    "We developed a model with more than 98% accuracy by leveraging the capabilities of LLMs to generalize (it's probably fine tuned on this dataset as well)."
   ]
  },
  {
   "cell_type": "code",
   "execution_count": null,
   "id": "cee4092b-c250-40d4-b9e1-f5a308c2275a",
   "metadata": {},
   "outputs": [],
   "source": []
  }
 ],
 "metadata": {
  "kernelspec": {
   "display_name": "Python 3 (ipykernel)",
   "language": "python",
   "name": "python3"
  },
  "language_info": {
   "codemirror_mode": {
    "name": "ipython",
    "version": 3
   },
   "file_extension": ".py",
   "mimetype": "text/x-python",
   "name": "python",
   "nbconvert_exporter": "python",
   "pygments_lexer": "ipython3",
   "version": "3.12.4"
  }
 },
 "nbformat": 4,
 "nbformat_minor": 5
}
